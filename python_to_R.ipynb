{
 "cells": [
  {
   "cell_type": "markdown",
   "id": "e77f04a5-eee3-4b6b-b0a6-94422b3c982e",
   "metadata": {},
   "source": [
    "## Calling R from Python"
   ]
  },
  {
   "cell_type": "markdown",
   "id": "ef6bd2bb-782d-4bb6-9c6a-0a956f6510b3",
   "metadata": {},
   "source": [
    "This notebook demonstrates 3 different ways of running R functions from Python: \n",
    "1. Self-encapusalted scripts via the `%%R` magic command within a Jupyter notebook\n",
    "2. Passing pandas DataFrames into R functions and getting results back into Python within a Jupyter notebook\n",
    "3. Using wrapper Python functions to call R functions behind the scences"
   ]
  },
  {
   "cell_type": "markdown",
   "id": "5c2a381f-a14b-4d53-85d6-6b3c096c1771",
   "metadata": {},
   "source": [
    "### Contents\n",
    "\n",
    "* [Environment Setup](#Environment-Setup)  \n",
    "  * [Load R Packages](#Load-R-Packages)  \n",
    "  * [Load Python Packages](#Load-Python-Packages)  \n",
    "* [Example: Mixed Effects Models](#Example:-Mixed-Effects-Models)  \n",
    "  * [Using Python's statsmodels package](#Using-Python's-statsmodels-package)  \n",
    "  * [Using Rmagic command](#Using-Rmagic-command)  \n",
    "  * [Running an R script with Python data](#Running-an-R-script-with-Python-data)  \n",
    "  * [Running an R script outside of Jupyter](#Running-an-R-script-outside-of-Jupyter)  "
   ]
  },
  {
   "cell_type": "markdown",
   "id": "3bfd44c2-02be-40ea-8395-bc0ad9558462",
   "metadata": {},
   "source": [
    "### Environment Setup"
   ]
  },
  {
   "cell_type": "markdown",
   "id": "61fdd639-e194-4a94-a5d2-a3f7b3c367e1",
   "metadata": {},
   "source": [
    "#### Load R Packages"
   ]
  },
  {
   "cell_type": "code",
   "execution_count": 1,
   "id": "e45ac37b-bcdb-4161-9b76-7b3682b2b666",
   "metadata": {},
   "outputs": [],
   "source": [
    "%load_ext rpy2.ipython"
   ]
  },
  {
   "cell_type": "code",
   "execution_count": 3,
   "id": "c712a1f9-7edb-49a9-955f-b6848e42f9dd",
   "metadata": {},
   "outputs": [],
   "source": [
    "%%R\n",
    "renv::restore()  # run this if the project is not yet in sync with the renv snapshot\n",
    "\n",
    "library(lme4)\n",
    "library(geepack)\n",
    "library(lmerTest)"
   ]
  },
  {
   "cell_type": "markdown",
   "id": "3ff4e4a1-dd56-459e-979f-acb6fdf07dbb",
   "metadata": {},
   "source": [
    "#### Load Python Packages"
   ]
  },
  {
   "cell_type": "code",
   "execution_count": 5,
   "id": "2b9ab8f7-95b5-4cd6-8b9e-2cd24d405b1b",
   "metadata": {},
   "outputs": [],
   "source": [
    "%load_ext autoreload\n",
    "%autoreload 2"
   ]
  },
  {
   "cell_type": "code",
   "execution_count": 6,
   "id": "3241c8b5-71d5-4ddf-a721-1848c6d0cd98",
   "metadata": {},
   "outputs": [],
   "source": [
    "import pandas as pd\n",
    "\n",
    "import statsmodels.api as sm\n",
    "import statsmodels.formula.api as smf\n",
    "\n",
    "from fit_lmem import compute_estimates_and_cis"
   ]
  },
  {
   "cell_type": "markdown",
   "id": "2574157b-d3d4-45d2-95c2-f5c0dc09cbcc",
   "metadata": {},
   "source": [
    "#### Example: Mixed Effects Models"
   ]
  },
  {
   "cell_type": "markdown",
   "id": "8e285c15-89df-4b31-b42c-928a9e32cfeb",
   "metadata": {},
   "source": [
    "This example is courtesy of [Jin Hyun Cheong](https://jinhyuncheong.medium.com/) and his excellent [towards data science post](https://towardsdatascience.com/how-to-run-linear-mixed-effects-models-in-python-jupyter-notebooks-4f8079c4b589). The motivation is to show that we can get the same results using a Python implementation of mixed effects models as we would with R. Then, we can take that one step further and do things with R that are not available in Python in this setting."
   ]
  },
  {
   "cell_type": "code",
   "execution_count": 7,
   "id": "7890fbd5-7f97-4f7e-af74-c609471dda85",
   "metadata": {},
   "outputs": [
    {
     "data": {
      "text/plain": [
       "(861, 8)"
      ]
     },
     "execution_count": 7,
     "metadata": {},
     "output_type": "execute_result"
    }
   ],
   "source": [
    "# Load dataset\n",
    "data = sm.datasets.get_rdataset('dietox', 'geepack').data\n",
    "data.shape"
   ]
  },
  {
   "cell_type": "markdown",
   "id": "93fdc237-f4ee-4be5-9f91-273a30bd2211",
   "metadata": {},
   "source": [
    "##### Using Python's `statsmodels` package"
   ]
  },
  {
   "cell_type": "code",
   "execution_count": 8,
   "id": "a2d23048-0eb4-42cc-a592-ffd9e41a7d6f",
   "metadata": {},
   "outputs": [
    {
     "name": "stdout",
     "output_type": "stream",
     "text": [
      "           Mixed Linear Model Regression Results\n",
      "===========================================================\n",
      "Model:             MixedLM  Dependent Variable:  Weight    \n",
      "No. Observations:  861      Method:              REML      \n",
      "No. Groups:        72       Scale:               6.0372    \n",
      "Min. group size:   11       Log-Likelihood:      -2217.0475\n",
      "Max. group size:   12       Converged:           Yes       \n",
      "Mean group size:   12.0                                    \n",
      "-----------------------------------------------------------\n",
      "                 Coef.  Std.Err.   z    P>|z| [0.025 0.975]\n",
      "-----------------------------------------------------------\n",
      "Intercept        15.739    0.550 28.603 0.000 14.660 16.817\n",
      "Time              6.939    0.080 86.925 0.000  6.783  7.095\n",
      "Group Var        19.503    1.561                           \n",
      "Group x Time Cov  0.294    0.153                           \n",
      "Time Var          0.416    0.033                           \n",
      "===========================================================\n",
      "\n"
     ]
    }
   ],
   "source": [
    "# Fit a simple mixed effects model using statsmodels implementation in Python\n",
    "model_definition = smf.mixedlm(\n",
    "    formula='Weight ~ Time', \n",
    "    data=data, \n",
    "    groups=data['Pig'], \n",
    "    re_formula='~Time'\n",
    ")\n",
    "\n",
    "model = model_definition.fit(\n",
    "    method=['lbfgs']\n",
    ")\n",
    "\n",
    "print(model.summary())"
   ]
  },
  {
   "cell_type": "markdown",
   "id": "daf3406d-a212-44a1-b296-77dde97a14a9",
   "metadata": {},
   "source": [
    "##### Using `Rmagic` command"
   ]
  },
  {
   "cell_type": "code",
   "execution_count": 9,
   "id": "81995756-f6cb-4471-85aa-4d63b94d4e1a",
   "metadata": {},
   "outputs": [
    {
     "name": "stdout",
     "output_type": "stream",
     "text": [
      "Linear mixed model fit by REML. t-tests use Satterthwaite's method [\n",
      "lmerModLmerTest]\n",
      "Formula: \"Weight ~ Time + (1 + Time | Pig)\"\n",
      "   Data: dietox\n",
      "\n",
      "REML criterion at convergence: 4434.1\n",
      "\n",
      "Scaled residuals: \n",
      "    Min      1Q  Median      3Q     Max \n",
      "-6.4286 -0.5529 -0.0416  0.4841  3.5624 \n",
      "\n",
      "Random effects:\n",
      " Groups   Name        Variance Std.Dev. Corr\n",
      " Pig      (Intercept) 19.4929  4.415        \n",
      "          Time         0.4161  0.645    0.10\n",
      " Residual              6.0375  2.457        \n",
      "Number of obs: 861, groups:  Pig, 72\n",
      "\n",
      "Fixed effects:\n",
      "            Estimate Std. Error       df t value Pr(>|t|)    \n",
      "(Intercept) 15.73865    0.55012 71.03978   28.61   <2e-16 ***\n",
      "Time         6.93901    0.07983 71.06517   86.93   <2e-16 ***\n",
      "---\n",
      "Signif. codes:  0 ‘***’ 0.001 ‘**’ 0.01 ‘*’ 0.05 ‘.’ 0.1 ‘ ’ 1\n",
      "\n",
      "Correlation of Fixed Effects:\n",
      "     (Intr)\n",
      "Time 0.005 \n"
     ]
    }
   ],
   "source": [
    "%%R\n",
    "data <- data(\n",
    "    dietox, \n",
    "    package='geepack'\n",
    ")\n",
    "\n",
    "model <- lmer(\n",
    "    'Weight ~ Time + (1 + Time | Pig)', \n",
    "    data=dietox\n",
    ")\n",
    "\n",
    "model_summary = summary(model)\n",
    "\n",
    "print(model_summary)"
   ]
  },
  {
   "cell_type": "markdown",
   "id": "43cc2577-e683-4692-82a0-ec5b8d593b19",
   "metadata": {},
   "source": [
    "We can see that we get exactly the same results as we do using Python's `statsmodels`."
   ]
  },
  {
   "cell_type": "markdown",
   "id": "0ceda074-90b9-4a61-b09a-23b9f0dc0728",
   "metadata": {},
   "source": [
    "##### Running an R script with Python data"
   ]
  },
  {
   "cell_type": "markdown",
   "id": "6c3de231-950f-46c9-83d7-06676427aad4",
   "metadata": {},
   "source": [
    "Now, here's what we really came here for - making Python and R work together. We are going to take a pandas DataFrame from Python, pass it to R and fetch the result back, so we can use it in the Python world again."
   ]
  },
  {
   "cell_type": "code",
   "execution_count": 10,
   "id": "86f91ede-257b-4036-bee8-dc26943faadf",
   "metadata": {},
   "outputs": [
    {
     "name": "stdout",
     "output_type": "stream",
     "text": [
      "<class 'pandas.core.frame.DataFrame'>\n",
      "(861, 8)\n"
     ]
    }
   ],
   "source": [
    "# Load dataset as a pandas DataFrame as before\n",
    "data = sm.datasets.get_rdataset('dietox', 'geepack').data\n",
    "\n",
    "print(type(data))  # nothing up our sleves - this is a normal pandas DataFrame\n",
    "print(data.shape)  # same shape as before"
   ]
  },
  {
   "cell_type": "code",
   "execution_count": 11,
   "id": "f816ee7b-1fb6-4057-bcce-d18f7204bded",
   "metadata": {},
   "outputs": [],
   "source": [
    "formula = 'Weight ~ Time + (1 + Time | Pig)'  # same model definition as we used in the example above"
   ]
  },
  {
   "cell_type": "markdown",
   "id": "579f0512-097f-41f4-ae7f-620a5537a5d6",
   "metadata": {},
   "source": [
    "Using the `Rmagic` command we will input the data and the model definition via `-i data,formula` arguments, and output coefficients via `-o coeffs` argument."
   ]
  },
  {
   "cell_type": "code",
   "execution_count": 12,
   "id": "06cdd8a2-efcd-4edf-b30f-97211e5d585c",
   "metadata": {},
   "outputs": [],
   "source": [
    "%%R -i data,formula -o coeffs\n",
    "\n",
    "model <- lmer(\n",
    "    formula, \n",
    "    data=data\n",
    ")\n",
    "\n",
    "coeffs <- coef(summary(model))"
   ]
  },
  {
   "cell_type": "code",
   "execution_count": 13,
   "id": "94fecc45-5f6c-4fb1-9d89-80ba09f2f113",
   "metadata": {},
   "outputs": [
    {
     "data": {
      "text/plain": [
       "numpy.ndarray"
      ]
     },
     "execution_count": 13,
     "metadata": {},
     "output_type": "execute_result"
    }
   ],
   "source": [
    "type(coeffs)"
   ]
  },
  {
   "cell_type": "markdown",
   "id": "fc18996c-2dfc-4343-9ada-df0cf1dd008c",
   "metadata": {},
   "source": [
    "Now we have estimated coefficients as a numpy array and can work with them the way we're used to."
   ]
  },
  {
   "cell_type": "code",
   "execution_count": 14,
   "id": "284e6df0-3dcb-4ceb-a116-24120b8ac0c6",
   "metadata": {},
   "outputs": [
    {
     "name": "stdout",
     "output_type": "stream",
     "text": [
      "15.738650177945749\n",
      "6.939014133855649\n"
     ]
    }
   ],
   "source": [
    "intercept_coeff = coeffs[0][0]\n",
    "time_coeff = coeffs[1][0]\n",
    "\n",
    "print(intercept_coeff)  \n",
    "print(time_coeff)"
   ]
  },
  {
   "cell_type": "markdown",
   "id": "384bb5ca-3b47-4ffa-8ece-69d73a7c2f9f",
   "metadata": {},
   "source": [
    "##### Running an R script outside of Jupyter"
   ]
  },
  {
   "cell_type": "markdown",
   "id": "c8543bc9-1dda-4470-b615-dc1b62ed852d",
   "metadata": {},
   "source": [
    "One final step is to be able to run R scripts and Python scripts seamlessly together. In the example below, we first define an R function to fit a linear mixed effects model in `fit_lmem.R`, and then we create a Python wrapper function in `fit_lmem.py`. To make everything work together we need to add the following steps to the Python script: \n",
    "\n",
    "1. Import the R function that will do the model estimation \n",
    "\n",
    "```python\n",
    "import rpy2.robjects as ro\n",
    "ro.r['source']('fit_lmem.R')\n",
    "\n",
    "lmem_r_function = ro.globalenv['compute_estimates_and_conf_ints']\n",
    "```\n",
    "\n",
    "2. Transform pandas DataFrame to R-friendly format\n",
    "\n",
    "```python\n",
    "from rpy2.robjects import pandas2ri\n",
    "from rpy2.robjects.conversion import localconverter\n",
    "\n",
    "with localconverter(ro.default_converter + pandas2ri.converter):\n",
    "    data_r = ro.conversion.py2rpy(data)\n",
    "```\n",
    "\n",
    "3. Call the R function to compute the estimates\n",
    "\n",
    "```python\n",
    "r_estimates = lmem_r_function(\n",
    "        data=data_r,\n",
    "        formula=formula,\n",
    "        ci_method=ci_method,\n",
    "    )\n",
    "```\n",
    "\n",
    "4. Format and return results as a pandas DataFrame\n",
    "```python\n",
    "return DataFrame([\n",
    "    ...\n",
    "])\n",
    "```"
   ]
  },
  {
   "cell_type": "code",
   "execution_count": 15,
   "id": "a33f0fb8-d3ca-49c4-b27f-cd1d854da01f",
   "metadata": {},
   "outputs": [],
   "source": [
    "estimates = compute_estimates_and_cis(\n",
    "    data=data, \n",
    "    formula=formula, \n",
    "    ci_method='profile'\n",
    ")"
   ]
  },
  {
   "cell_type": "code",
   "execution_count": 17,
   "id": "1b31c30c-5f5d-4938-bb9b-e1208d3814d0",
   "metadata": {},
   "outputs": [
    {
     "data": {
      "text/html": [
       "<div>\n",
       "<style scoped>\n",
       "    .dataframe tbody tr th:only-of-type {\n",
       "        vertical-align: middle;\n",
       "    }\n",
       "\n",
       "    .dataframe tbody tr th {\n",
       "        vertical-align: top;\n",
       "    }\n",
       "\n",
       "    .dataframe thead th {\n",
       "        text-align: right;\n",
       "    }\n",
       "</style>\n",
       "<table border=\"1\" class=\"dataframe\">\n",
       "  <thead>\n",
       "    <tr style=\"text-align: right;\">\n",
       "      <th></th>\n",
       "      <th>Name</th>\n",
       "      <th>Estimate</th>\n",
       "      <th>95% CI</th>\n",
       "      <th>P-Value</th>\n",
       "    </tr>\n",
       "  </thead>\n",
       "  <tbody>\n",
       "    <tr>\n",
       "      <th>0</th>\n",
       "      <td>Intercept</td>\n",
       "      <td>15.739</td>\n",
       "      <td>(14.653, 16.824)</td>\n",
       "      <td>0.0</td>\n",
       "    </tr>\n",
       "    <tr>\n",
       "      <th>1</th>\n",
       "      <td>Time</td>\n",
       "      <td>6.939</td>\n",
       "      <td>(6.782, 7.096)</td>\n",
       "      <td>0.0</td>\n",
       "    </tr>\n",
       "  </tbody>\n",
       "</table>\n",
       "</div>"
      ],
      "text/plain": [
       "        Name  Estimate            95% CI  P-Value\n",
       "0  Intercept    15.739  (14.653, 16.824)      0.0\n",
       "1       Time     6.939    (6.782, 7.096)      0.0"
      ]
     },
     "execution_count": 17,
     "metadata": {},
     "output_type": "execute_result"
    }
   ],
   "source": [
    "estimates"
   ]
  },
  {
   "cell_type": "markdown",
   "id": "fad521a9-1328-4864-820a-1a91c8cbf330",
   "metadata": {},
   "source": [
    "And voila, we get parameter estimates, 95% confidence intervals and p-vales all using Python syntax and R smarts behind the scenes."
   ]
  }
 ],
 "metadata": {
  "kernelspec": {
   "display_name": "Python 3 (ipykernel)",
   "language": "python",
   "name": "python3"
  },
  "language_info": {
   "codemirror_mode": {
    "name": "ipython",
    "version": 3
   },
   "file_extension": ".py",
   "mimetype": "text/x-python",
   "name": "python",
   "nbconvert_exporter": "python",
   "pygments_lexer": "ipython3",
   "version": "3.8.9"
  }
 },
 "nbformat": 4,
 "nbformat_minor": 5
}
